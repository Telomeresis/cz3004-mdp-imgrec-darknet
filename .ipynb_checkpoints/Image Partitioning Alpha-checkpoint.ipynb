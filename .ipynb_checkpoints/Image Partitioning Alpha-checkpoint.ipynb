{
 "cells": [
  {
   "cell_type": "code",
   "execution_count": 1,
   "metadata": {},
   "outputs": [],
   "source": [
    "'''\n",
    "Load json file, then extract info into a list\n",
    "'''\n",
    "\n",
    "import json\n",
    "\n",
    "with open('mdpfiles\\\\predicted_output\\\\result.json') as json_file:\n",
    "\n",
    "    data = json.load(json_file)\n",
    "    \n",
    "    all_images = []\n",
    "\n",
    "    for each in data:\n",
    "        name = each['objects'][0]['name']\n",
    "        x_axis = each['objects'][0]['relative_coordinates']['left_x']\n",
    "        y_axis = each['objects'][0]['relative_coordinates']['top_y']\n",
    "        confidence = each['objects'][0]['confidence']\n",
    "        image_info = [name, x_axis, y_axis, confidence]\n",
    "        all_images.append(image_info)"
   ]
  },
  {
   "cell_type": "code",
   "execution_count": 2,
   "metadata": {},
   "outputs": [],
   "source": [
    "'''\n",
    "After extracting info into a list,\n",
    "declare new df and set its values according to the list\n",
    "'''\n",
    "\n",
    "import pandas as pd\n",
    "import numpy as np\n",
    "\n",
    "columns = [\n",
    "    'Description',\n",
    "    'BBox X-axis',\n",
    "    'BBox Y-axis',\n",
    "    'Confidence'\n",
    "]\n",
    "\n",
    "df = pd.DataFrame(data = all_images, columns = columns) "
   ]
  },
  {
   "cell_type": "code",
   "execution_count": 3,
   "metadata": {},
   "outputs": [],
   "source": [
    "'''\n",
    "Import helper function to get each respective image's path\n",
    "'''\n",
    "\n",
    "from filelister import *\n",
    "\n",
    "dir_name = 'mdpfiles\\\\samples' # sample and output uses same dimensions, so keep this folder clean!\n",
    "image_list = getFileList(dir_name)"
   ]
  },
  {
   "cell_type": "code",
   "execution_count": 4,
   "metadata": {},
   "outputs": [],
   "source": [
    "'''\n",
    "Declare columns for image_df\n",
    "'''\n",
    "columns_image = [\n",
    "    'Image Width',\n",
    "    'Image Height'\n",
    "]\n",
    "\n",
    "image_df = pd.DataFrame(columns = columns_image)"
   ]
  },
  {
   "cell_type": "code",
   "execution_count": 5,
   "metadata": {},
   "outputs": [],
   "source": [
    "from PIL import Image\n",
    "\n",
    "image_meta = []\n",
    "\n",
    "'''\n",
    "For loop to iterate through image paths in image_list\n",
    "Then, run Image function to get width and height for each image\n",
    "'''\n",
    "for image_path in image_list: # I need to load each image name into a list\n",
    "    im = Image.open(image_path)\n",
    "    img_width = im.size[0]\n",
    "    img_height = im.size[1]\n",
    "    image_df.loc[len(image_df)]=[img_width, img_height]"
   ]
  },
  {
   "cell_type": "code",
   "execution_count": 6,
   "metadata": {},
   "outputs": [],
   "source": [
    "'''\n",
    "Combine original df with image_df to store all meta info together\n",
    "'''\n",
    "final_df = pd.concat([df, image_df], axis=1, sort=False)"
   ]
  },
  {
   "cell_type": "code",
   "execution_count": 7,
   "metadata": {},
   "outputs": [],
   "source": [
    "'''\n",
    "Will need to map a dictionary of values to distances (in terms of how many blocks away)\n",
    "For now, assume that the blocks away = 0\n",
    "In future, assume we need to map different bounds for:\n",
    "0\n",
    "1\n",
    "2\n",
    "3\n",
    "4\n",
    "5\n",
    "6\n",
    "7\n",
    "8\n",
    "9\n",
    "''' \n",
    "\n",
    "final_df['Left Bound'] = (final_df['Image Width']/3) * 1 \n",
    "final_df['Center Bound'] = (final_df['Image Width']/3) * 2\n",
    "final_df['Right Bound'] = final_df['Image Width']\n",
    "final_df['Offset Factor'] = 0"
   ]
  },
  {
   "cell_type": "code",
   "execution_count": 8,
   "metadata": {},
   "outputs": [
    {
     "data": {
      "text/plain": [
       "'\\nTo determine most realistic partition for bounding box\\n\\nFor Left Bounding box\\nImg X-axis + bounding box length\\n\\nFor Right Bounding box\\nImg X-axis \\n\\nBut for now do simplest implementation without bounding box factor\\n\\n'"
      ]
     },
     "execution_count": 8,
     "metadata": {},
     "output_type": "execute_result"
    }
   ],
   "source": [
    "'''\n",
    "To determine most realistic partition for bounding box\n",
    "\n",
    "For Left Bounding box\n",
    "Img X-axis + bounding box length\n",
    "\n",
    "For Right Bounding box\n",
    "Img X-axis \n",
    "\n",
    "But for now do simplest implementation without bounding box factor\n",
    "\n",
    "'''"
   ]
  },
  {
   "cell_type": "code",
   "execution_count": 9,
   "metadata": {},
   "outputs": [],
   "source": [
    "offset_list = []\n",
    "\n",
    "for index, row in final_df.iterrows():\n",
    "    if (row['BBox X-axis'] < row['Left Bound']):\n",
    "        offset_list.append('Left') \n",
    "    elif (row['BBox X-axis'] > row['Center Bound']): \n",
    "        offset_list.append('Right')\n",
    "    else:\n",
    "        offset_list.append('Center')\n",
    "        \n",
    "final_df['Offset Factor'] = offset_list\n",
    "final_df['Robot X-axis'] = 1\n",
    "final_df['Robot Y-axis'] = 0\n",
    "final_df['Robot Orientation'] = None\n",
    "final_df['Actual Image ID'] = 0\n",
    "final_df['Actual Image X-axis'] = 0\n",
    "final_df['Actual Image Y-axis'] = 0"
   ]
  },
  {
   "cell_type": "code",
   "execution_count": 10,
   "metadata": {},
   "outputs": [
    {
     "data": {
      "text/html": [
       "<div>\n",
       "<style scoped>\n",
       "    .dataframe tbody tr th:only-of-type {\n",
       "        vertical-align: middle;\n",
       "    }\n",
       "\n",
       "    .dataframe tbody tr th {\n",
       "        vertical-align: top;\n",
       "    }\n",
       "\n",
       "    .dataframe thead th {\n",
       "        text-align: right;\n",
       "    }\n",
       "</style>\n",
       "<table border=\"1\" class=\"dataframe\">\n",
       "  <thead>\n",
       "    <tr style=\"text-align: right;\">\n",
       "      <th></th>\n",
       "      <th>Description</th>\n",
       "      <th>BBox X-axis</th>\n",
       "      <th>BBox Y-axis</th>\n",
       "      <th>Confidence</th>\n",
       "      <th>Image Width</th>\n",
       "      <th>Image Height</th>\n",
       "      <th>Left Bound</th>\n",
       "      <th>Center Bound</th>\n",
       "      <th>Right Bound</th>\n",
       "      <th>Offset Factor</th>\n",
       "      <th>Robot X-axis</th>\n",
       "      <th>Robot Y-axis</th>\n",
       "      <th>Robot Orientation</th>\n",
       "      <th>Actual Image ID</th>\n",
       "      <th>Actual Image X-axis</th>\n",
       "      <th>Actual Image Y-axis</th>\n",
       "    </tr>\n",
       "  </thead>\n",
       "  <tbody>\n",
       "    <tr>\n",
       "      <th>0</th>\n",
       "      <td>[ID: 6] six</td>\n",
       "      <td>22</td>\n",
       "      <td>332</td>\n",
       "      <td>0.996820</td>\n",
       "      <td>820</td>\n",
       "      <td>616</td>\n",
       "      <td>273.333</td>\n",
       "      <td>546.667</td>\n",
       "      <td>820</td>\n",
       "      <td>Left</td>\n",
       "      <td>1</td>\n",
       "      <td>0</td>\n",
       "      <td>None</td>\n",
       "      <td>0</td>\n",
       "      <td>0</td>\n",
       "      <td>0</td>\n",
       "    </tr>\n",
       "    <tr>\n",
       "      <th>1</th>\n",
       "      <td>[ID: 6] six</td>\n",
       "      <td>314</td>\n",
       "      <td>330</td>\n",
       "      <td>0.995212</td>\n",
       "      <td>820</td>\n",
       "      <td>616</td>\n",
       "      <td>273.333</td>\n",
       "      <td>546.667</td>\n",
       "      <td>820</td>\n",
       "      <td>Center</td>\n",
       "      <td>1</td>\n",
       "      <td>0</td>\n",
       "      <td>None</td>\n",
       "      <td>0</td>\n",
       "      <td>0</td>\n",
       "      <td>0</td>\n",
       "    </tr>\n",
       "    <tr>\n",
       "      <th>2</th>\n",
       "      <td>[ID: 6] six</td>\n",
       "      <td>605</td>\n",
       "      <td>326</td>\n",
       "      <td>0.993180</td>\n",
       "      <td>820</td>\n",
       "      <td>616</td>\n",
       "      <td>273.333</td>\n",
       "      <td>546.667</td>\n",
       "      <td>820</td>\n",
       "      <td>Right</td>\n",
       "      <td>1</td>\n",
       "      <td>0</td>\n",
       "      <td>None</td>\n",
       "      <td>0</td>\n",
       "      <td>0</td>\n",
       "      <td>0</td>\n",
       "    </tr>\n",
       "    <tr>\n",
       "      <th>3</th>\n",
       "      <td>[ID: 10] zero</td>\n",
       "      <td>5</td>\n",
       "      <td>355</td>\n",
       "      <td>0.976302</td>\n",
       "      <td>820</td>\n",
       "      <td>616</td>\n",
       "      <td>273.333</td>\n",
       "      <td>546.667</td>\n",
       "      <td>820</td>\n",
       "      <td>Left</td>\n",
       "      <td>1</td>\n",
       "      <td>0</td>\n",
       "      <td>None</td>\n",
       "      <td>0</td>\n",
       "      <td>0</td>\n",
       "      <td>0</td>\n",
       "    </tr>\n",
       "    <tr>\n",
       "      <th>4</th>\n",
       "      <td>[ID: 10] zero</td>\n",
       "      <td>304</td>\n",
       "      <td>351</td>\n",
       "      <td>0.996049</td>\n",
       "      <td>820</td>\n",
       "      <td>616</td>\n",
       "      <td>273.333</td>\n",
       "      <td>546.667</td>\n",
       "      <td>820</td>\n",
       "      <td>Center</td>\n",
       "      <td>1</td>\n",
       "      <td>0</td>\n",
       "      <td>None</td>\n",
       "      <td>0</td>\n",
       "      <td>0</td>\n",
       "      <td>0</td>\n",
       "    </tr>\n",
       "    <tr>\n",
       "      <th>5</th>\n",
       "      <td>[ID: 10] zero</td>\n",
       "      <td>582</td>\n",
       "      <td>356</td>\n",
       "      <td>0.997835</td>\n",
       "      <td>820</td>\n",
       "      <td>616</td>\n",
       "      <td>273.333</td>\n",
       "      <td>546.667</td>\n",
       "      <td>820</td>\n",
       "      <td>Right</td>\n",
       "      <td>1</td>\n",
       "      <td>0</td>\n",
       "      <td>None</td>\n",
       "      <td>0</td>\n",
       "      <td>0</td>\n",
       "      <td>0</td>\n",
       "    </tr>\n",
       "  </tbody>\n",
       "</table>\n",
       "</div>"
      ],
      "text/plain": [
       "     Description  BBox X-axis  BBox Y-axis  Confidence Image Width  \\\n",
       "0    [ID: 6] six           22          332    0.996820         820   \n",
       "1    [ID: 6] six          314          330    0.995212         820   \n",
       "2    [ID: 6] six          605          326    0.993180         820   \n",
       "3  [ID: 10] zero            5          355    0.976302         820   \n",
       "4  [ID: 10] zero          304          351    0.996049         820   \n",
       "5  [ID: 10] zero          582          356    0.997835         820   \n",
       "\n",
       "  Image Height Left Bound Center Bound Right Bound Offset Factor  \\\n",
       "0          616    273.333      546.667         820          Left   \n",
       "1          616    273.333      546.667         820        Center   \n",
       "2          616    273.333      546.667         820         Right   \n",
       "3          616    273.333      546.667         820          Left   \n",
       "4          616    273.333      546.667         820        Center   \n",
       "5          616    273.333      546.667         820         Right   \n",
       "\n",
       "   Robot X-axis  Robot Y-axis Robot Orientation  Actual Image ID  \\\n",
       "0             1             0              None                0   \n",
       "1             1             0              None                0   \n",
       "2             1             0              None                0   \n",
       "3             1             0              None                0   \n",
       "4             1             0              None                0   \n",
       "5             1             0              None                0   \n",
       "\n",
       "   Actual Image X-axis  Actual Image Y-axis  \n",
       "0                    0                    0  \n",
       "1                    0                    0  \n",
       "2                    0                    0  \n",
       "3                    0                    0  \n",
       "4                    0                    0  \n",
       "5                    0                    0  "
      ]
     },
     "execution_count": 10,
     "metadata": {},
     "output_type": "execute_result"
    }
   ],
   "source": [
    "final_df"
   ]
  },
  {
   "cell_type": "code",
   "execution_count": 11,
   "metadata": {},
   "outputs": [],
   "source": [
    "# map description to actual id using list mapping\n",
    "\n",
    "id_dict = {\n",
    "    '[ID: 6] six': 6,\n",
    "    '[ID: 7] seven' : 7,\n",
    "    '[ID: 8] eight' : 8,\n",
    "    '[ID: 9] nine' : 9,\n",
    "    '[ID: 10] zero' : 10,\n",
    "    '[ID: 11] Alphabet V' : 11,\n",
    "    '[ID: 12] Alphabet W' : 12,\n",
    "    '[ID: 13] Alphabet X' : 13,\n",
    "    '[ID: 14] Alphabet Y' : 14,\n",
    "    '[ID: 15] Alphabet Z' : 15,\n",
    "    '[ID: 3] right arrow' : 3,\n",
    "    '[ID: 5] Go' : 5,\n",
    "    '[ID: 4] left arrow' : 4,\n",
    "    '[ID: 2] down arrow' : 2,\n",
    "    '[ID: 1] Up arrow' : 1\n",
    "}\n",
    "\n",
    "final_df['Actual Image ID'] = final_df['Description'].map(id_dict) "
   ]
  },
  {
   "cell_type": "code",
   "execution_count": 12,
   "metadata": {},
   "outputs": [],
   "source": [
    "output_df = final_df[['Actual Image ID', 'Actual Image X-axis', 'Actual Image Y-axis']]"
   ]
  },
  {
   "cell_type": "code",
   "execution_count": 13,
   "metadata": {},
   "outputs": [
    {
     "name": "stdout",
     "output_type": "stream",
     "text": [
      "   Actual Image ID  Actual Image X-axis  Actual Image Y-axis\n",
      "0                6                    0                    0\n",
      "1                6                    0                    0\n",
      "2                6                    0                    0\n",
      "3               10                    0                    0\n",
      "4               10                    0                    0\n",
      "5               10                    0                    0\n"
     ]
    }
   ],
   "source": [
    "print(output_df)"
   ]
  },
  {
   "cell_type": "code",
   "execution_count": 17,
   "metadata": {},
   "outputs": [
    {
     "name": "stdout",
     "output_type": "stream",
     "text": [
      "<class 'pandas.core.frame.DataFrame'>\n",
      "RangeIndex: 6 entries, 0 to 5\n",
      "Data columns (total 3 columns):\n",
      " #   Column               Non-Null Count  Dtype\n",
      "---  ------               --------------  -----\n",
      " 0   Actual Image ID      6 non-null      int64\n",
      " 1   Actual Image X-axis  6 non-null      int64\n",
      " 2   Actual Image Y-axis  6 non-null      int64\n",
      "dtypes: int64(3)\n",
      "memory usage: 272.0 bytes\n"
     ]
    }
   ],
   "source": [
    "output_df.info()"
   ]
  },
  {
   "cell_type": "code",
   "execution_count": 14,
   "metadata": {},
   "outputs": [],
   "source": [
    "np.savetxt(r'mdpfiles\\predicted_output\\mdf_output.txt', output_df.values, fmt='%d', delimiter='\\t')    "
   ]
  },
  {
   "cell_type": "code",
   "execution_count": 15,
   "metadata": {},
   "outputs": [
    {
     "ename": "TypeError",
     "evalue": "init_pc_comm() missing 1 required positional argument: 'self'",
     "output_type": "error",
     "traceback": [
      "\u001b[1;31m---------------------------------------------------------------------------\u001b[0m",
      "\u001b[1;31mTypeError\u001b[0m                                 Traceback (most recent call last)",
      "\u001b[1;32m<ipython-input-15-05684bcbd484>\u001b[0m in \u001b[0;36m<module>\u001b[1;34m\u001b[0m\n\u001b[0;32m      6\u001b[0m \u001b[1;33m\u001b[0m\u001b[0m\n\u001b[0;32m      7\u001b[0m \u001b[0mrec\u001b[0m \u001b[1;33m=\u001b[0m \u001b[0mRecAPI\u001b[0m \u001b[1;31m# declare class to initialize communication object\u001b[0m\u001b[1;33m\u001b[0m\u001b[1;33m\u001b[0m\u001b[0m\n\u001b[1;32m----> 8\u001b[1;33m \u001b[0mrec\u001b[0m\u001b[1;33m.\u001b[0m\u001b[0minit_pc_comm\u001b[0m\u001b[1;33m(\u001b[0m\u001b[1;33m)\u001b[0m \u001b[1;31m# initiate\u001b[0m\u001b[1;33m\u001b[0m\u001b[1;33m\u001b[0m\u001b[0m\n\u001b[0m\u001b[0;32m      9\u001b[0m \u001b[1;33m\u001b[0m\u001b[0m\n\u001b[0;32m     10\u001b[0m \u001b[0mrec\u001b[0m\u001b[1;33m.\u001b[0m\u001b[0mwrite_toAndroi\u001b[0m\u001b[1;33m\u001b[0m\u001b[1;33m\u001b[0m\u001b[0m\n",
      "\u001b[1;31mTypeError\u001b[0m: init_pc_comm() missing 1 required positional argument: 'self'"
     ]
    }
   ],
   "source": [
    "'''\n",
    "Communication function\n",
    "'''\n",
    "\n",
    "from img_comm_get import *\n",
    "\n",
    "print(\"main\")\n",
    "rec = RecAPI()\n",
    "rec.init_pc_comm()\n",
    "\n",
    "'''\n",
    "rec.read_from_RPI(\"test.jpg\")\n",
    "print(\"Image is saved\")\n",
    "'''\n",
    "\n",
    "send_msg = \"test\"\n",
    "print(\"write_to_Android(): \", send_msg)\n",
    "rec.write_to_Android(send_msg.encode())\n",
    "\n",
    "print(\"closing sockets\")\n",
    "rec.close_pc_socket()"
   ]
  }
 ],
 "metadata": {
  "kernelspec": {
   "display_name": "Python 3",
   "language": "python",
   "name": "python3"
  },
  "language_info": {
   "codemirror_mode": {
    "name": "ipython",
    "version": 3
   },
   "file_extension": ".py",
   "mimetype": "text/x-python",
   "name": "python",
   "nbconvert_exporter": "python",
   "pygments_lexer": "ipython3",
   "version": "3.6.10"
  }
 },
 "nbformat": 4,
 "nbformat_minor": 4
}
