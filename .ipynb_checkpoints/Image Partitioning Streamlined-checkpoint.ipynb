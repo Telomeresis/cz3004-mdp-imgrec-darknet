{
 "cells": [
  {
   "cell_type": "code",
   "execution_count": null,
   "metadata": {
    "scrolled": true
   },
   "outputs": [],
   "source": [
    "from partitioning_helper import *\n",
    "import pandas\n",
    "import time\n",
    "from img_comm_get import *\n",
    "\n",
    "\n",
    "pandas.set_option('display.max_rows', None)\n",
    "\n",
    "\n",
    "while(True):\n",
    "    # Load and parse json data produced by Darknet\n",
    "    all_images = load_json('mdpfiles\\\\predicted_output\\\\result.json')\n",
    "    # Create initial df using json data\n",
    "    df = declare_df(all_images)\n",
    "    # Determine distance offsets and update df with new column\n",
    "    df = calculate_distance_offset(df)\n",
    "    # Get paths to each image in input directory\n",
    "    image_list = get_filelist('mdpfiles\\\\samples')\n",
    "    # Create image_df using image_list and get initial dimensions for each image in directory\n",
    "    image_df = declare_image_df(image_list)\n",
    "    # Create concatenated df using df and image_df\n",
    "    final_df = pd.concat([df, image_df], axis=1, sort=False)\n",
    "    # Calculate Left and Right Boundaries\n",
    "    final_df = calculate_partitions(final_df)\n",
    "    # Determine offset using L/R Boundaries\n",
    "    final_df = determine_offsets(final_df)\n",
    "    # Store received robot x,y,o values from buffer into final_df\n",
    "    final_df = retrieve_buffer_values(final_df)\n",
    "    # Calculate actual x and y axis values\n",
    "    final_df = calculate_actual_coordinates(final_df)\n",
    "    # Map actual image ID\n",
    "    final_df = map_actual_image_id(final_df)\n",
    "    # Create df using only unique first instances\n",
    "    unique_df = declare_unique_df(final_df)\n",
    "    # Create output_df as a subset of the final_df, then iterate through and create output string\n",
    "    output_string = declare_output_string(unique_df)\n",
    "\n",
    "\n",
    "    '''\n",
    "    Communication function\n",
    "    '''\n",
    "    print(\"main\")\n",
    "    rec = RecAPI()\n",
    "    rec.init_pc_comm()\n",
    "\n",
    "    '''\n",
    "    rec.read_from_RPI(\"test.jpg\")\n",
    "    print(\"Image is saved\")\n",
    "    '''\n",
    "    send_msg = output_string # uses output string from previous functions\n",
    "    print(\"write_to_Android(): \", send_msg)\n",
    "    rec.write_to_Android(send_msg.encode())\n",
    "\n",
    "    print(\"closing sockets\")\n",
    "    rec.close_pc_socket()\n",
    "    \n",
    "    \n",
    "    time.sleep(1)"
   ]
  },
  {
   "cell_type": "code",
   "execution_count": null,
   "metadata": {},
   "outputs": [],
   "source": [
    "output_string"
   ]
  },
  {
   "cell_type": "code",
   "execution_count": 15,
   "metadata": {},
   "outputs": [],
   "source": [
    "import json\n",
    "import pandas as pd\n",
    "import numpy as np\n",
    "import time\n",
    "import os\n",
    "\n",
    "def load_json(json_directory):\n",
    "    with open(json_directory) as json_file:\n",
    "        data = json.load(json_file)\n",
    "        all_images = []\n",
    "        for each in data:\n",
    "            pathname = each['filename']\n",
    "            if (len(each['objects']) != 0):\n",
    "                print(each['objects'])\n",
    "                name = each['objects'][0]['name']\n",
    "                x_axis = each['objects'][0]['relative_coordinates']['left_x']\n",
    "                y_axis = each['objects'][0]['relative_coordinates']['top_y']\n",
    "                box_width = each['objects'][0]['relative_coordinates']['width']\n",
    "                box_height = each['objects'][0]['relative_coordinates']['height']\n",
    "                box_area = box_width * box_height\n",
    "                confidence = each['objects'][0]['confidence']\n",
    "                image_info = [pathname, name, x_axis, y_axis, box_width, box_height, box_area, confidence]\n",
    "                all_images.append(image_info)\n",
    "load_json('mdpfiles/predicted_output/result.json')"
   ]
  },
  {
   "cell_type": "code",
   "execution_count": null,
   "metadata": {},
   "outputs": [],
   "source": []
  }
 ],
 "metadata": {
  "kernelspec": {
   "display_name": "Python 3",
   "language": "python",
   "name": "python3"
  },
  "language_info": {
   "codemirror_mode": {
    "name": "ipython",
    "version": 3
   },
   "file_extension": ".py",
   "mimetype": "text/x-python",
   "name": "python",
   "nbconvert_exporter": "python",
   "pygments_lexer": "ipython3",
   "version": "3.6.10"
  }
 },
 "nbformat": 4,
 "nbformat_minor": 4
}
