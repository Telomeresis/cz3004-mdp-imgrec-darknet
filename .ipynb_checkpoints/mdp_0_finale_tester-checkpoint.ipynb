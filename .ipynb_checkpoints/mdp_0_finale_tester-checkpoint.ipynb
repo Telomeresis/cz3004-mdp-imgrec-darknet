{
 "cells": [
  {
   "cell_type": "code",
   "execution_count": 1,
   "metadata": {},
   "outputs": [],
   "source": [
    "from img_comm_get import *\n",
    "import pandas as pd\n",
    "import time\n",
    "from partitioning_helper_0 import *\n",
    "import os.path\n",
    "from os import path"
   ]
  },
  {
   "cell_type": "code",
   "execution_count": 2,
   "metadata": {},
   "outputs": [
    {
     "name": "stdout",
     "output_type": "stream",
     "text": [
      "JSON file exists.\n",
      "JSON File Size: 3422\n",
      "JSON file has been updated.\n"
     ]
    }
   ],
   "source": [
    "# # # # # # # # # # # # # #\n",
    "# COMMENCE JSON PRE-CHECK #\n",
    "# # # # # # # # # # # # # #\n",
    "\n",
    "# Retrieve True/False value for existence of JSON file\n",
    "json_exists = path.exists(\"mdpfiles/predicted_output/result.json\")\n",
    "if (json_exists == True): # If JSON file exists\n",
    "    print('JSON file exists.')\n",
    "    \n",
    "    # Retrieve size of JSON file that already exists\n",
    "    size = os.stat('mdpfiles/predicted_output/result.json').st_size\n",
    "\n",
    "    # Print size of JSON file\n",
    "    print('JSON File Size: {}'.format(size))\n",
    "    \n",
    "    if (size != 0): # If JSON file has some shit inside\n",
    "        print('JSON file has been updated.')"
   ]
  },
  {
   "cell_type": "code",
   "execution_count": 3,
   "metadata": {},
   "outputs": [],
   "source": [
    "# # # # # # # # # # # # # # #\n",
    "# COMMENCE MDP PART 3 CODE  #\n",
    "# # # # # # # # # # # # # # #\n",
    "\n",
    "# Load and parse json data produced by Darknet\n",
    "# [NOTE] There is a potential problem here when I receive corrupted images, although grace's laptop has no issues.\n",
    "all_images = load_json('mdpfiles/predicted_output/result.json')"
   ]
  },
  {
   "cell_type": "code",
   "execution_count": 4,
   "metadata": {
    "scrolled": true
   },
   "outputs": [],
   "source": [
    "# Create initial df using json data\n",
    "df = declare_df(all_images)\n",
    "\n",
    "# Determine distance offsets and update df with new column\n",
    "df = calculate_distance_offset(df)\n",
    "\n",
    "# Get paths to each image in input directory\n",
    "image_list = get_filelist('mdpfiles/samples')\n",
    "\n",
    "# Create image_df using image_list and get initial dimensions for each image in directory\n",
    "image_df = declare_image_df(image_list)\n",
    "\n",
    "# Create concatenated df using df and image_df\n",
    "final_df = pd.concat([df, image_df], axis=1, sort=False)\n",
    "\n",
    "# Drop NaN rows\n",
    "final_df = final_df.dropna()\n",
    "\n",
    "#Calculate Left and Right Boundaries\n",
    "final_df = calculate_partitions(final_df)"
   ]
  },
  {
   "cell_type": "code",
   "execution_count": 5,
   "metadata": {},
   "outputs": [],
   "source": [
    "# Determine offset using L/R Boundaries\n",
    "final_df = determine_offsets(final_df)\n",
    "\n",
    "# Store received robot x,y,o values from buffer into final_df\n",
    "final_df = retrieve_text_metadata(final_df)"
   ]
  },
  {
   "cell_type": "code",
   "execution_count": 6,
   "metadata": {},
   "outputs": [],
   "source": [
    "# Calculate actual x and y axis values\n",
    "final_df = calculate_actual_coordinates(final_df)"
   ]
  },
  {
   "cell_type": "code",
   "execution_count": 7,
   "metadata": {},
   "outputs": [
    {
     "name": "stdout",
     "output_type": "stream",
     "text": [
      "PARTITIONING IS COMPLETED PROCESS\n"
     ]
    }
   ],
   "source": [
    "# Map actual image ID\n",
    "final_df = map_actual_image_id(final_df)\n",
    "\n",
    "# Create df using only unique first instances\n",
    "unique_df = declare_unique_df(final_df)\n",
    "print('PARTITIONING IS COMPLETED PROCESS')"
   ]
  },
  {
   "cell_type": "code",
   "execution_count": 8,
   "metadata": {},
   "outputs": [],
   "source": [
    "# Generate output string\n",
    "output_string = declare_output_string(unique_df)"
   ]
  },
  {
   "cell_type": "code",
   "execution_count": 9,
   "metadata": {},
   "outputs": [
    {
     "name": "stdout",
     "output_type": "stream",
     "text": [
      "ia5.0,6,4|15.0,9,14\n"
     ]
    }
   ],
   "source": [
    "print(output_string)"
   ]
  },
  {
   "cell_type": "code",
   "execution_count": 10,
   "metadata": {},
   "outputs": [
    {
     "data": {
      "text/plain": [
       "2"
      ]
     },
     "execution_count": 10,
     "metadata": {},
     "output_type": "execute_result"
    }
   ],
   "source": [
    "len(unique_df.index)"
   ]
  }
 ],
 "metadata": {
  "kernelspec": {
   "display_name": "Python 3",
   "language": "python",
   "name": "python3"
  },
  "language_info": {
   "codemirror_mode": {
    "name": "ipython",
    "version": 3
   },
   "file_extension": ".py",
   "mimetype": "text/x-python",
   "name": "python",
   "nbconvert_exporter": "python",
   "pygments_lexer": "ipython3",
   "version": "3.6.10"
  }
 },
 "nbformat": 4,
 "nbformat_minor": 4
}
