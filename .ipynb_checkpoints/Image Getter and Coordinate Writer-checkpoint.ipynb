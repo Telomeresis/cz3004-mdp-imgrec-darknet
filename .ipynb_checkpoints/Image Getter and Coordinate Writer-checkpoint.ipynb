{
 "cells": [
  {
   "cell_type": "code",
   "execution_count": null,
   "metadata": {},
   "outputs": [],
   "source": [
    "from img_comm_get import *\n",
    "import pandas as pd\n",
    "import time\n",
    "\n",
    "rec = RecAPI()\n",
    "rec.init_pc_comm()"
   ]
  },
  {
   "cell_type": "code",
   "execution_count": null,
   "metadata": {},
   "outputs": [],
   "source": [
    "def process_dd(decoded_data, x_list, y_list, orientation_list):\n",
    "    # get list of raw values, temporary placeholder\n",
    "    dd_list = decoded_data.split(',')\n",
    "\n",
    "    # append raw values to respective global lists\n",
    "    x_list.append(dd_list[0])\n",
    "    y_list.append(dd_list[1])\n",
    "    orientation_list.append(dd_list[2])\n",
    "\n",
    "    # re/initialize df to wipe the slate clean\n",
    "    df = pd.DataFrame(columns = ['x', 'y', 'orientation'])\n",
    "\n",
    "    # append lists to respective dataframes\n",
    "    df['x'] = x_list\n",
    "    df['y'] = y_list\n",
    "    df['orientation'] = orientation_list\n",
    "\n",
    "    # write dataframe to text file\n",
    "    df.to_csv('mdpfiles/predicted_output/decoded_raw.txt', index=False)\n",
    "    \n",
    "    print(dd_list)"
   ]
  },
  {
   "cell_type": "code",
   "execution_count": null,
   "metadata": {},
   "outputs": [],
   "source": [
    "# initialize list to temporarily store data\n",
    "x_list = []\n",
    "y_list = []\n",
    "orientation_list = []\n",
    "\n",
    "# needed for output file naming convention\n",
    "i = 1 \n",
    "\n",
    "while(True):\n",
    "    try:\n",
    "        data = rec.read_coor()\n",
    "        decoded_data = data.decode()\n",
    "        \n",
    "        if (decoded_data != ''):\n",
    "            process_list(decoded_data, x_list, y_list, orientation_list)\n",
    "        try:\n",
    "            rec.read_from_RPI('mdpfiles/samples/'+str(i)+'.jpg') # code modified to send to mdpfiles/samples folder\n",
    "            i+=1\n",
    "        except:\n",
    "            continue        \n",
    "    except:\n",
    "        continue\n",
    "    \n",
    "    # Pause for 1 second before carrying on with loop\n",
    "    time.sleep(1) "
   ]
  },
  {
   "cell_type": "code",
   "execution_count": 48,
   "metadata": {},
   "outputs": [],
   "source": [
    "'''\n",
    "import pandas as pd\n",
    "\n",
    "# initialize df to store\n",
    "df = pd.DataFrame(columns = ['x', 'y', 'orientation'])\n",
    "\n",
    "x_list = []\n",
    "y_list = []\n",
    "orientation_list = []\n",
    "'''"
   ]
  },
  {
   "cell_type": "code",
   "execution_count": 50,
   "metadata": {},
   "outputs": [
    {
     "data": {
      "text/html": [
       "<div>\n",
       "<style scoped>\n",
       "    .dataframe tbody tr th:only-of-type {\n",
       "        vertical-align: middle;\n",
       "    }\n",
       "\n",
       "    .dataframe tbody tr th {\n",
       "        vertical-align: top;\n",
       "    }\n",
       "\n",
       "    .dataframe thead th {\n",
       "        text-align: right;\n",
       "    }\n",
       "</style>\n",
       "<table border=\"1\" class=\"dataframe\">\n",
       "  <thead>\n",
       "    <tr style=\"text-align: right;\">\n",
       "      <th></th>\n",
       "      <th>x</th>\n",
       "      <th>y</th>\n",
       "      <th>orientation</th>\n",
       "    </tr>\n",
       "  </thead>\n",
       "  <tbody>\n",
       "    <tr>\n",
       "      <th>0</th>\n",
       "      <td>1</td>\n",
       "      <td>1</td>\n",
       "      <td>RIGHT</td>\n",
       "    </tr>\n",
       "    <tr>\n",
       "      <th>1</th>\n",
       "      <td>999</td>\n",
       "      <td>999</td>\n",
       "      <td>henlo</td>\n",
       "    </tr>\n",
       "  </tbody>\n",
       "</table>\n",
       "</div>"
      ],
      "text/plain": [
       "     x    y orientation\n",
       "0    1    1       RIGHT\n",
       "1  999  999       henlo"
      ]
     },
     "execution_count": 50,
     "metadata": {},
     "output_type": "execute_result"
    }
   ],
   "source": [
    "'''\n",
    "dd_list = [999,999,'henlo']\n",
    "x_list.append(dd_list[0])\n",
    "y_list.append(dd_list[1])\n",
    "orientation_list.append(dd_list[2])\n",
    "\n",
    "# re-initialize df to wipe the slate clean\n",
    "df = pd.DataFrame(columns = ['x', 'y', 'orientation'])\n",
    "\n",
    "df['x'] = x_list\n",
    "df['y'] = y_list\n",
    "df['orientation'] = orientation_list\n",
    "\n",
    "df.to_csv('mdpfiles/predicted_output/decoded_raw.csv', index=False)       \n",
    "\n",
    "df\n",
    "'''"
   ]
  }
 ],
 "metadata": {
  "kernelspec": {
   "display_name": "Python 3",
   "language": "python",
   "name": "python3"
  },
  "language_info": {
   "codemirror_mode": {
    "name": "ipython",
    "version": 3
   },
   "file_extension": ".py",
   "mimetype": "text/x-python",
   "name": "python",
   "nbconvert_exporter": "python",
   "pygments_lexer": "ipython3",
   "version": "3.6.10"
  }
 },
 "nbformat": 4,
 "nbformat_minor": 4
}
