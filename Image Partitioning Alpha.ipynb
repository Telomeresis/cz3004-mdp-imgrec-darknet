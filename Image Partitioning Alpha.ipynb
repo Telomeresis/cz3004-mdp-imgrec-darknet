{
 "cells": [
  {
   "cell_type": "code",
   "execution_count": 1,
   "metadata": {},
   "outputs": [],
   "source": [
    "'''\n",
    "Load json file, then extract info into a list\n",
    "'''\n",
    "import json\n",
    "\n",
    "with open('mdpfiles\\\\predicted_output\\\\result.json') as json_file:\n",
    "\n",
    "    data = json.load(json_file)\n",
    "    \n",
    "    all_images = []\n",
    "\n",
    "    for each in data:\n",
    "        name = each['objects'][0]['name']\n",
    "        x_axis = each['objects'][0]['relative_coordinates']['left_x']\n",
    "        y_axis = each['objects'][0]['relative_coordinates']['top_y']\n",
    "        confidence = each['objects'][0]['confidence']\n",
    "        image_info = [name, x_axis, y_axis, confidence]\n",
    "        all_images.append(image_info)"
   ]
  },
  {
   "cell_type": "code",
   "execution_count": 2,
   "metadata": {},
   "outputs": [],
   "source": [
    "'''\n",
    "After extracting info into a list,\n",
    "declare new df and set its values according to the list\n",
    "'''\n",
    "\n",
    "import pandas as pd\n",
    "import numpy as np\n",
    "\n",
    "columns = [\n",
    "    'Description',\n",
    "    'BBox X-axis',\n",
    "    'BBox Y-axis',\n",
    "    'Confidence'\n",
    "]\n",
    "\n",
    "df = pd.DataFrame(data = all_images, columns = columns) "
   ]
  },
  {
   "cell_type": "code",
   "execution_count": 3,
   "metadata": {},
   "outputs": [],
   "source": [
    "'''\n",
    "Import helper function to get each respective image's path\n",
    "'''\n",
    "\n",
    "from filelister import *\n",
    "\n",
    "dir_name = 'mdpfiles\\\\samples' # sample and output uses same dimensions, so keep this folder clean!\n",
    "image_list = getFileList(dir_name)"
   ]
  },
  {
   "cell_type": "code",
   "execution_count": 4,
   "metadata": {},
   "outputs": [
    {
     "data": {
      "text/plain": [
       "['mdpfiles\\\\samples\\\\1.jpg',\n",
       " 'mdpfiles\\\\samples\\\\2.jpg',\n",
       " 'mdpfiles\\\\samples\\\\3.jpg',\n",
       " 'mdpfiles\\\\samples\\\\4.jpg',\n",
       " 'mdpfiles\\\\samples\\\\5.jpg',\n",
       " 'mdpfiles\\\\samples\\\\6.jpg']"
      ]
     },
     "execution_count": 4,
     "metadata": {},
     "output_type": "execute_result"
    }
   ],
   "source": [
    "image_list"
   ]
  },
  {
   "cell_type": "code",
   "execution_count": 5,
   "metadata": {},
   "outputs": [],
   "source": [
    "'''\n",
    "Declare columns for image_df\n",
    "'''\n",
    "columns_image = [\n",
    "    'Image Width',\n",
    "    'Image Height'\n",
    "]\n",
    "\n",
    "image_df = pd.DataFrame(columns = columns_image)"
   ]
  },
  {
   "cell_type": "code",
   "execution_count": 6,
   "metadata": {},
   "outputs": [
    {
     "data": {
      "text/html": [
       "<div>\n",
       "<style scoped>\n",
       "    .dataframe tbody tr th:only-of-type {\n",
       "        vertical-align: middle;\n",
       "    }\n",
       "\n",
       "    .dataframe tbody tr th {\n",
       "        vertical-align: top;\n",
       "    }\n",
       "\n",
       "    .dataframe thead th {\n",
       "        text-align: right;\n",
       "    }\n",
       "</style>\n",
       "<table border=\"1\" class=\"dataframe\">\n",
       "  <thead>\n",
       "    <tr style=\"text-align: right;\">\n",
       "      <th></th>\n",
       "      <th>Image Width</th>\n",
       "      <th>Image Height</th>\n",
       "    </tr>\n",
       "  </thead>\n",
       "  <tbody>\n",
       "  </tbody>\n",
       "</table>\n",
       "</div>"
      ],
      "text/plain": [
       "Empty DataFrame\n",
       "Columns: [Image Width, Image Height]\n",
       "Index: []"
      ]
     },
     "execution_count": 6,
     "metadata": {},
     "output_type": "execute_result"
    }
   ],
   "source": [
    "image_df"
   ]
  },
  {
   "cell_type": "code",
   "execution_count": null,
   "metadata": {},
   "outputs": [],
   "source": []
  },
  {
   "cell_type": "code",
   "execution_count": 7,
   "metadata": {},
   "outputs": [],
   "source": [
    "from PIL import Image\n",
    "\n",
    "'''\n",
    "For loop to iterate through image paths in image_list\n",
    "Then, run Image function to get width and height for each image\n",
    "'''\n",
    "for image_path in image_list: # I need to load each image name into a list\n",
    "    im = Image.open(image_path)\n",
    "    img_width = im.size[0]\n",
    "    img_height = im.size[1]\n",
    "    image_df.loc[len(image_df)]=[img_width, img_height]"
   ]
  },
  {
   "cell_type": "code",
   "execution_count": 8,
   "metadata": {},
   "outputs": [],
   "source": [
    "'''\n",
    "Combine original df with image_df to store all meta info together\n",
    "'''\n",
    "final_df = pd.concat([df, image_df], axis=1, sort=False)"
   ]
  },
  {
   "cell_type": "code",
   "execution_count": 9,
   "metadata": {},
   "outputs": [],
   "source": [
    "'''\n",
    "Will need to map a dictionary of values to distances (in terms of how many blocks away)\n",
    "For now, assume that the blocks away = 0\n",
    "In future, assume we need to map different bounds for:\n",
    "0\n",
    "1\n",
    "2\n",
    "3\n",
    "4\n",
    "5\n",
    "6\n",
    "7\n",
    "8\n",
    "9\n",
    "''' \n",
    "\n",
    "final_df['Left Bound'] = (final_df['Image Width']/3) * 1 \n",
    "final_df['Center Bound'] = (final_df['Image Width']/3) * 2\n",
    "final_df['Right Bound'] = final_df['Image Width']\n",
    "final_df['Offset Factor'] = 0"
   ]
  },
  {
   "cell_type": "code",
   "execution_count": 10,
   "metadata": {},
   "outputs": [
    {
     "data": {
      "text/plain": [
       "'\\nTo determine most realistic partition for bounding box\\n\\nFor Left Bounding box\\nImg X-axis + bounding box length\\n\\nFor Right Bounding box\\nImg X-axis \\n\\nBut for now do simplest implementation without bounding box factor\\n\\n'"
      ]
     },
     "execution_count": 10,
     "metadata": {},
     "output_type": "execute_result"
    }
   ],
   "source": [
    "'''\n",
    "To determine most realistic partition for bounding box\n",
    "\n",
    "For Left Bounding box\n",
    "Img X-axis + bounding box length\n",
    "\n",
    "For Right Bounding box\n",
    "Img X-axis \n",
    "\n",
    "But for now do simplest implementation without bounding box factor\n",
    "\n",
    "'''"
   ]
  },
  {
   "cell_type": "code",
   "execution_count": 11,
   "metadata": {},
   "outputs": [],
   "source": [
    "offset_list = []\n",
    "\n",
    "for index, row in final_df.iterrows():\n",
    "    if (row['BBox X-axis'] < row['Left Bound']):\n",
    "        offset_list.append('Left') \n",
    "    elif (row['BBox X-axis'] > row['Center Bound']): \n",
    "        offset_list.append('Right')\n",
    "    else:\n",
    "        offset_list.append('Center')\n",
    "        \n",
    "final_df['Offset Factor'] = offset_list\n",
    "final_df['Robot X-axis'] = 1\n",
    "final_df['Robot Y-axis'] = 0\n",
    "final_df['Robot Orientation'] = None\n",
    "final_df['Actual Image ID'] = 0\n",
    "final_df['Actual Image X-axis'] = 0\n",
    "final_df['Actual Image Y-axis'] = 0"
   ]
  },
  {
   "cell_type": "code",
   "execution_count": 13,
   "metadata": {},
   "outputs": [],
   "source": [
    "# map description to actual id using list mapping\n",
    "\n",
    "id_dict = {\n",
    "    '[ID: 6] six': 6,\n",
    "    '[ID: 7] seven' : 7,\n",
    "    '[ID: 8] eight' : 8,\n",
    "    '[ID: 9] nine' : 9,\n",
    "    '[ID: 10] zero' : 10,\n",
    "    '[ID: 11] Alphabet V' : 11,\n",
    "    '[ID: 12] Alphabet W' : 12,\n",
    "    '[ID: 13] Alphabet X' : 13,\n",
    "    '[ID: 14] Alphabet Y' : 14,\n",
    "    '[ID: 15] Alphabet Z' : 15,\n",
    "    '[ID: 3] right arrow' : 3,\n",
    "    '[ID: 5] Go' : 5,\n",
    "    '[ID: 4] left arrow' : 4,\n",
    "    '[ID: 2] down arrow' : 2,\n",
    "    '[ID: 1] Up arrow' : 1\n",
    "}\n",
    "\n",
    "final_df['Actual Image ID'] = final_df['Description'].map(id_dict) "
   ]
  },
  {
   "cell_type": "code",
   "execution_count": 14,
   "metadata": {},
   "outputs": [
    {
     "name": "stdout",
     "output_type": "stream",
     "text": [
      "  6  0  0\n",
      "  6  0  0\n",
      "  6  0  0\n",
      " 10  0  0\n",
      " 10  0  0\n",
      " 10  0  0\n"
     ]
    }
   ],
   "source": [
    "'''\n",
    "Create output_df and convert to string for sending to Android\n",
    "'''\n",
    "output_df = final_df[['Actual Image ID', 'Actual Image X-axis', 'Actual Image Y-axis']]\n",
    "output_string = output_df.to_string(header=False, index=False)\n",
    "print(output_string)"
   ]
  },
  {
   "cell_type": "code",
   "execution_count": 15,
   "metadata": {},
   "outputs": [
    {
     "name": "stdout",
     "output_type": "stream",
     "text": [
      "main\n",
      "Error:  [WinError 10049] The requested address is not valid in its context\n",
      "Try again in a few seconds\n",
      "write_to_Android():    6  0  0\n",
      "  6  0  0\n",
      "  6  0  0\n",
      " 10  0  0\n",
      " 10  0  0\n",
      " 10  0  0\n"
     ]
    },
    {
     "ename": "AttributeError",
     "evalue": "'NoneType' object has no attribute 'sendto'",
     "output_type": "error",
     "traceback": [
      "\u001b[1;31m---------------------------------------------------------------------------\u001b[0m",
      "\u001b[1;31mAttributeError\u001b[0m                            Traceback (most recent call last)",
      "\u001b[1;32m<ipython-input-15-289393d1bb2a>\u001b[0m in \u001b[0;36m<module>\u001b[1;34m\u001b[0m\n\u001b[0;32m     16\u001b[0m \u001b[0msend_msg\u001b[0m \u001b[1;33m=\u001b[0m \u001b[0moutput_string\u001b[0m\u001b[1;33m\u001b[0m\u001b[1;33m\u001b[0m\u001b[0m\n\u001b[0;32m     17\u001b[0m \u001b[0mprint\u001b[0m\u001b[1;33m(\u001b[0m\u001b[1;34m\"write_to_Android(): \"\u001b[0m\u001b[1;33m,\u001b[0m \u001b[0msend_msg\u001b[0m\u001b[1;33m)\u001b[0m\u001b[1;33m\u001b[0m\u001b[1;33m\u001b[0m\u001b[0m\n\u001b[1;32m---> 18\u001b[1;33m \u001b[0mrec\u001b[0m\u001b[1;33m.\u001b[0m\u001b[0mwrite_to_Android\u001b[0m\u001b[1;33m(\u001b[0m\u001b[0msend_msg\u001b[0m\u001b[1;33m.\u001b[0m\u001b[0mencode\u001b[0m\u001b[1;33m(\u001b[0m\u001b[1;33m)\u001b[0m\u001b[1;33m)\u001b[0m\u001b[1;33m\u001b[0m\u001b[1;33m\u001b[0m\u001b[0m\n\u001b[0m\u001b[0;32m     19\u001b[0m \u001b[1;33m\u001b[0m\u001b[0m\n\u001b[0;32m     20\u001b[0m \u001b[0mprint\u001b[0m\u001b[1;33m(\u001b[0m\u001b[1;34m\"closing sockets\"\u001b[0m\u001b[1;33m)\u001b[0m\u001b[1;33m\u001b[0m\u001b[1;33m\u001b[0m\u001b[0m\n",
      "\u001b[1;32m~\\git\\darknet\\img_comm_get.py\u001b[0m in \u001b[0;36mwrite_to_Android\u001b[1;34m(self, message)\u001b[0m\n\u001b[0;32m     57\u001b[0m                 \"\"\"\n\u001b[0;32m     58\u001b[0m                 \u001b[1;32mtry\u001b[0m\u001b[1;33m:\u001b[0m\u001b[1;33m\u001b[0m\u001b[1;33m\u001b[0m\u001b[0m\n\u001b[1;32m---> 59\u001b[1;33m                         \u001b[0mself\u001b[0m\u001b[1;33m.\u001b[0m\u001b[0mclient\u001b[0m\u001b[1;33m.\u001b[0m\u001b[0msendto\u001b[0m\u001b[1;33m(\u001b[0m\u001b[0mmessage\u001b[0m\u001b[1;33m,\u001b[0m \u001b[0mself\u001b[0m\u001b[1;33m.\u001b[0m\u001b[0maddr\u001b[0m\u001b[1;33m)\u001b[0m\u001b[1;33m\u001b[0m\u001b[1;33m\u001b[0m\u001b[0m\n\u001b[0m\u001b[0;32m     60\u001b[0m \u001b[1;33m\u001b[0m\u001b[0m\n\u001b[0;32m     61\u001b[0m                 \u001b[1;32mexcept\u001b[0m \u001b[0mTypeError\u001b[0m\u001b[1;33m:\u001b[0m\u001b[1;33m\u001b[0m\u001b[1;33m\u001b[0m\u001b[0m\n",
      "\u001b[1;31mAttributeError\u001b[0m: 'NoneType' object has no attribute 'sendto'"
     ]
    }
   ],
   "source": [
    "'''\n",
    "Communication function\n",
    "'''\n",
    "\n",
    "from img_comm_get import *\n",
    "\n",
    "print(\"main\")\n",
    "rec = RecAPI()\n",
    "rec.init_pc_comm()\n",
    "\n",
    "'''\n",
    "rec.read_from_RPI(\"test.jpg\")\n",
    "print(\"Image is saved\")\n",
    "'''\n",
    "\n",
    "send_msg = output_string\n",
    "print(\"write_to_Android(): \", send_msg)\n",
    "rec.write_to_Android(send_msg.encode())\n",
    "\n",
    "print(\"closing sockets\")\n",
    "rec.close_pc_socket()"
   ]
  }
 ],
 "metadata": {
  "kernelspec": {
   "display_name": "Python 3",
   "language": "python",
   "name": "python3"
  },
  "language_info": {
   "codemirror_mode": {
    "name": "ipython",
    "version": 3
   },
   "file_extension": ".py",
   "mimetype": "text/x-python",
   "name": "python",
   "nbconvert_exporter": "python",
   "pygments_lexer": "ipython3",
   "version": "3.6.10"
  }
 },
 "nbformat": 4,
 "nbformat_minor": 4
}
