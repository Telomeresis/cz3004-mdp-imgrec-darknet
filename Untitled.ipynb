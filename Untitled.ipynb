{
 "cells": [
  {
   "cell_type": "code",
   "execution_count": null,
   "metadata": {},
   "outputs": [],
   "source": [
    "from img_comm_get import *\n",
    "import pandas as pd\n",
    "import time"
   ]
  },
  {
   "cell_type": "code",
   "execution_count": null,
   "metadata": {},
   "outputs": [],
   "source": [
    "def process_dd(decoded_data, x_list, y_list, orientation_list):\n",
    "    print(\"START OF PROCESS_DD\")\n",
    "    # get list of raw values, temporary placeholder\n",
    "    dd_list = decoded_data.split(',')\n",
    "    # append raw values to respective global lists\n",
    "    x_list.append(dd_list[0])\n",
    "    y_list.append(dd_list[1])\n",
    "    orientation_list.append(dd_list[2])\n",
    "    # re/initialize df to wipe the slate clean\n",
    "    df = pd.DataFrame(columns = ['x', 'y', 'orientation'])\n",
    "    # append lists to respective dataframes\n",
    "    df['x'] = x_list\n",
    "    df['y'] = y_list\n",
    "    df['orientation'] = orientation_list\n",
    "    # write dataframe to text file\n",
    "    print(\"Write to decoded_raw.txt\")\n",
    "    df.to_csv('mdpfiles/predicted_output/decoded_raw.csv', index=False)\n",
    "    print(dd_list)"
   ]
  },
  {
   "cell_type": "code",
   "execution_count": null,
   "metadata": {},
   "outputs": [],
   "source": [
    "# Declare rec object\n",
    "rec = RecAPI()\n",
    "rec.init_pc_comm()\n",
    "\n",
    "\n",
    "'''\n",
    "all the nonsense code below\n",
    "'''\n",
    "\n",
    "# initialize list to temporarily store data\n",
    "x_list = []\n",
    "y_list = []\n",
    "orientation_list = []\n",
    "# needed for output file naming convention\n",
    "i = 1\n",
    "# while loop\n",
    "while(True):\n",
    "    try:\n",
    "        data = rec.read_coor()\n",
    "        print('DATA: ['+data+']')\n",
    "\n",
    "        if (data != None):\n",
    "            print('TEST')\n",
    "            decoded_data = data.decode()\n",
    "            print(decoded_data)\n",
    "            print('TESTAROSSA BEFORE DECODED')\n",
    "            if (decoded_data != ''):\n",
    "                process_dd(decoded_data, x_list, y_list, orientation_list)\n",
    "                print(\"CHECK POINT #2 - right after DD\")\n",
    "            try:\n",
    "                print('Image '+str(i)+' saved.')\n",
    "                rec.read_from_RPI('mdpfiles\\\\samples\\\\'+str(i)+'.jpg') # code modified to send to mdpfiles/samples folder\n",
    "                i+=1\n",
    "            except Exception as inst:\n",
    "                #print(inst)\n",
    "                continue\n",
    "        else:\n",
    "            continue\n",
    "    except Exception as inst:\n",
    "        #print(inst)\n",
    "        continue\n",
    "    # Pause for 1 second before carrying on with loop\n",
    "    time.sleep(1)"
   ]
  }
 ],
 "metadata": {
  "kernelspec": {
   "display_name": "Python 3",
   "language": "python",
   "name": "python3"
  },
  "language_info": {
   "codemirror_mode": {
    "name": "ipython",
    "version": 3
   },
   "file_extension": ".py",
   "mimetype": "text/x-python",
   "name": "python",
   "nbconvert_exporter": "python",
   "pygments_lexer": "ipython3",
   "version": "3.6.10"
  }
 },
 "nbformat": 4,
 "nbformat_minor": 4
}
