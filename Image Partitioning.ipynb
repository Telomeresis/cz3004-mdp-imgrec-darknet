{
 "cells": [
  {
   "cell_type": "code",
   "execution_count": null,
   "metadata": {},
   "outputs": [],
   "source": [
    "'''\n",
    "Image recognition was initially trained using the wrong class IDs\n",
    "Hence, we need to adjust what we output and remap the right class IDs because of my blunder.\n",
    "'''"
   ]
  },
  {
   "cell_type": "code",
   "execution_count": null,
   "metadata": {},
   "outputs": [],
   "source": [
    "import json\n",
    "\n",
    "with open('mdpfiles\\\\predicted_output\\\\result.json') as json_file:\n",
    "    data = json.load(json_file)"
   ]
  },
  {
   "cell_type": "code",
   "execution_count": null,
   "metadata": {},
   "outputs": [],
   "source": [
    "all_images = []\n",
    "\n",
    "for each in data:\n",
    "    name = each['objects'][0]['name']\n",
    "    x_axis = each['objects'][0]['relative_coordinates']['left_x']\n",
    "    y_axis = each['objects'][0]['relative_coordinates']['top_y']\n",
    "    confidence = each['objects'][0]['confidence']\n",
    "    image_info = [name, x_axis, y_axis, confidence]\n",
    "    all_images.append(image_info)"
   ]
  },
  {
   "cell_type": "code",
   "execution_count": null,
   "metadata": {},
   "outputs": [],
   "source": [
    "import pandas as pd\n",
    "import numpy as np\n",
    "\n",
    "columns = [\n",
    "    'Description',\n",
    "    'BBox X-axis',\n",
    "    'BBox Y-axis',\n",
    "    'Confidence'\n",
    "]\n",
    "\n",
    "df = pd.DataFrame(data = all_images, columns = columns) "
   ]
  },
  {
   "cell_type": "code",
   "execution_count": null,
   "metadata": {},
   "outputs": [],
   "source": [
    "'''\n",
    "Import helper function to get each respective image's path\n",
    "'''\n",
    "\n",
    "from filelister import *\n",
    "\n",
    "dir_name = 'mdpfiles\\\\samples'\n",
    "image_list = getFileList(dir_name)"
   ]
  },
  {
   "cell_type": "code",
   "execution_count": null,
   "metadata": {},
   "outputs": [],
   "source": [
    "'''\n",
    "Declare columns for image_df\n",
    "'''\n",
    "columns_image = [\n",
    "    'Image Width',\n",
    "    'Image Height'\n",
    "]\n",
    "\n",
    "image_df = pd.DataFrame(columns = columns_image)"
   ]
  },
  {
   "cell_type": "code",
   "execution_count": null,
   "metadata": {},
   "outputs": [],
   "source": [
    "from PIL import Image\n",
    "\n",
    "image_meta = []\n",
    "\n",
    "'''\n",
    "For loop to iterate through image paths in image_list\n",
    "Then, run Image function to get width and height for each image\n",
    "'''\n",
    "for image_path in image_list: # I need to load each image name into a list\n",
    "    im = Image.open(image_path)\n",
    "    img_width = im.size[0]\n",
    "    img_height = im.size[1]\n",
    "    image_df.loc[len(image_df)]=[img_width, img_height]"
   ]
  },
  {
   "cell_type": "code",
   "execution_count": null,
   "metadata": {},
   "outputs": [],
   "source": [
    "'''\n",
    "Combine original df with image_df to store all meta info together\n",
    "'''\n",
    "final_df = pd.concat([df, image_df], axis=1, sort=False)"
   ]
  },
  {
   "cell_type": "code",
   "execution_count": null,
   "metadata": {},
   "outputs": [],
   "source": [
    "'''\n",
    "Will need to map a dictionary of values to distances (in terms of how many blocks away)\n",
    "For now, assume that the blocks away = 0\n",
    "In future, assume we need to map different bounds for:\n",
    "0\n",
    "1\n",
    "2\n",
    "3\n",
    "4\n",
    "5\n",
    "6\n",
    "7\n",
    "8\n",
    "9\n",
    "''' \n",
    "\n",
    "final_df['Left Bound'] = (final_df['Image Width']/3) * 1 \n",
    "final_df['Center Bound'] = (final_df['Image Width']/3) * 2\n",
    "final_df['Right Bound'] = final_df['Image Width']\n",
    "final_df['Offset Factor'] = 0"
   ]
  },
  {
   "cell_type": "code",
   "execution_count": null,
   "metadata": {},
   "outputs": [],
   "source": [
    "'''\n",
    "To determine most realistic partition for bounding box\n",
    "\n",
    "For Left Bounding box\n",
    "Img X-axis + bounding box length\n",
    "\n",
    "For Right Bounding box\n",
    "Img X-axis \n",
    "\n",
    "But for now do simplest implementation without bounding box factor\n",
    "\n",
    "'''"
   ]
  },
  {
   "cell_type": "code",
   "execution_count": null,
   "metadata": {},
   "outputs": [],
   "source": [
    "offset_list = []\n",
    "\n",
    "for index, row in final_df.iterrows():\n",
    "    if (row['BBox X-axis'] < row['Left Bound']):\n",
    "        offset_list.append('Left') \n",
    "    elif (row['BBox X-axis'] > row['Center Bound']): \n",
    "        offset_list.append('Right')\n",
    "    else:\n",
    "        offset_list.append('Center')\n",
    "        \n",
    "final_df['Offset Factor'] = offset_list"
   ]
  },
  {
   "cell_type": "code",
   "execution_count": null,
   "metadata": {},
   "outputs": [],
   "source": [
    "final_df"
   ]
  },
  {
   "cell_type": "code",
   "execution_count": null,
   "metadata": {},
   "outputs": [],
   "source": []
  },
  {
   "cell_type": "code",
   "execution_count": null,
   "metadata": {},
   "outputs": [],
   "source": [
    "final_df = final_df[[\n",
    "    'Description',\n",
    "    'Offset Factor',\n",
    "    'Confidence',\n",
    "]]\n",
    "final_df"
   ]
  },
  {
   "cell_type": "code",
   "execution_count": null,
   "metadata": {},
   "outputs": [],
   "source": [
    "'''\n",
    "need dictionary mapping for description to actual raw values for mdf format\n",
    "'''"
   ]
  }
 ],
 "metadata": {
  "kernelspec": {
   "display_name": "Python 3",
   "language": "python",
   "name": "python3"
  },
  "language_info": {
   "codemirror_mode": {
    "name": "ipython",
    "version": 3
   },
   "file_extension": ".py",
   "mimetype": "text/x-python",
   "name": "python",
   "nbconvert_exporter": "python",
   "pygments_lexer": "ipython3",
   "version": "3.6.10"
  }
 },
 "nbformat": 4,
 "nbformat_minor": 4
}
